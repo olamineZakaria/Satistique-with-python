{
 "cells": [
  {
   "cell_type": "markdown",
   "metadata": {},
   "source": [
    "# **chapitre1** :  **Ajustement linéaires**"
   ]
  },
  {
   "cell_type": "markdown",
   "metadata": {},
   "source": [
    "## **importer des bibliothèques**"
   ]
  },
  {
   "cell_type": "code",
   "execution_count": 1,
   "metadata": {},
   "outputs": [
    {
     "name": "stdout",
     "output_type": "stream",
     "text": [
      "Requirement already satisfied: pandas in c:\\users\\pc\\appdata\\local\\programs\\python\\python311\\lib\\site-packages (from -r requirements.txt (line 1)) (2.0.1)\n",
      "Requirement already satisfied: numpy in c:\\users\\pc\\appdata\\local\\programs\\python\\python311\\lib\\site-packages (from -r requirements.txt (line 2)) (1.24.3)\n",
      "Requirement already satisfied: matplotlib in c:\\users\\pc\\appdata\\local\\programs\\python\\python311\\lib\\site-packages (from -r requirements.txt (line 3)) (3.7.1)\n",
      "Requirement already satisfied: seaborn in c:\\users\\pc\\appdata\\local\\programs\\python\\python311\\lib\\site-packages (from -r requirements.txt (line 4)) (0.13.0)\n",
      "Requirement already satisfied: scipy in c:\\users\\pc\\appdata\\local\\programs\\python\\python311\\lib\\site-packages (from -r requirements.txt (line 5)) (1.10.1)\n",
      "Requirement already satisfied: statsmodels in c:\\users\\pc\\appdata\\local\\programs\\python\\python311\\lib\\site-packages (from -r requirements.txt (line 6)) (0.14.1)\n",
      "Requirement already satisfied: scikit-learn in c:\\users\\pc\\appdata\\local\\programs\\python\\python311\\lib\\site-packages (from -r requirements.txt (line 7)) (1.2.2)\n",
      "Requirement already satisfied: python-dateutil>=2.8.2 in c:\\users\\pc\\appdata\\local\\programs\\python\\python311\\lib\\site-packages (from pandas->-r requirements.txt (line 1)) (2.8.2)\n",
      "Requirement already satisfied: pytz>=2020.1 in c:\\users\\pc\\appdata\\local\\programs\\python\\python311\\lib\\site-packages (from pandas->-r requirements.txt (line 1)) (2023.3)\n",
      "Requirement already satisfied: tzdata>=2022.1 in c:\\users\\pc\\appdata\\local\\programs\\python\\python311\\lib\\site-packages (from pandas->-r requirements.txt (line 1)) (2023.3)\n",
      "Requirement already satisfied: contourpy>=1.0.1 in c:\\users\\pc\\appdata\\local\\programs\\python\\python311\\lib\\site-packages (from matplotlib->-r requirements.txt (line 3)) (1.0.7)\n",
      "Requirement already satisfied: cycler>=0.10 in c:\\users\\pc\\appdata\\local\\programs\\python\\python311\\lib\\site-packages (from matplotlib->-r requirements.txt (line 3)) (0.11.0)\n",
      "Requirement already satisfied: fonttools>=4.22.0 in c:\\users\\pc\\appdata\\local\\programs\\python\\python311\\lib\\site-packages (from matplotlib->-r requirements.txt (line 3)) (4.39.4)\n",
      "Requirement already satisfied: kiwisolver>=1.0.1 in c:\\users\\pc\\appdata\\local\\programs\\python\\python311\\lib\\site-packages (from matplotlib->-r requirements.txt (line 3)) (1.4.4)\n",
      "Requirement already satisfied: packaging>=20.0 in c:\\users\\pc\\appdata\\local\\programs\\python\\python311\\lib\\site-packages (from matplotlib->-r requirements.txt (line 3)) (23.1)\n",
      "Requirement already satisfied: pillow>=6.2.0 in c:\\users\\pc\\appdata\\local\\programs\\python\\python311\\lib\\site-packages (from matplotlib->-r requirements.txt (line 3)) (9.5.0)\n",
      "Requirement already satisfied: pyparsing>=2.3.1 in c:\\users\\pc\\appdata\\local\\programs\\python\\python311\\lib\\site-packages (from matplotlib->-r requirements.txt (line 3)) (3.0.9)\n",
      "Requirement already satisfied: patsy>=0.5.4 in c:\\users\\pc\\appdata\\local\\programs\\python\\python311\\lib\\site-packages (from statsmodels->-r requirements.txt (line 6)) (0.5.6)\n",
      "Requirement already satisfied: joblib>=1.1.1 in c:\\users\\pc\\appdata\\local\\programs\\python\\python311\\lib\\site-packages (from scikit-learn->-r requirements.txt (line 7)) (1.2.0)\n",
      "Requirement already satisfied: threadpoolctl>=2.0.0 in c:\\users\\pc\\appdata\\local\\programs\\python\\python311\\lib\\site-packages (from scikit-learn->-r requirements.txt (line 7)) (3.1.0)\n",
      "Requirement already satisfied: six in c:\\users\\pc\\appdata\\local\\programs\\python\\python311\\lib\\site-packages (from patsy>=0.5.4->statsmodels->-r requirements.txt (line 6)) (1.16.0)\n",
      "Note: you may need to restart the kernel to use updated packages.\n"
     ]
    },
    {
     "name": "stderr",
     "output_type": "stream",
     "text": [
      "\n",
      "[notice] A new release of pip is available: 23.1.2 -> 24.0\n",
      "[notice] To update, run: python.exe -m pip install --upgrade pip\n"
     ]
    }
   ],
   "source": [
    "%pip install -r requirements.txt"
   ]
  },
  {
   "cell_type": "code",
   "execution_count": 2,
   "metadata": {},
   "outputs": [],
   "source": [
    "import matplotlib.pyplot as plt\n",
    "import numpy as np\n",
    "import pandas"
   ]
  },
  {
   "cell_type": "markdown",
   "metadata": {},
   "source": [
    "## **Méthode des moindres carrés**\n",
    "L'équation de la droite d'ajustement est de la forme : y = ax + b, où :\n",
    "- \"a\" est le coefficient directeur de la droite.\n",
    "- \"b\" est l'ordonnée à l'origine de la droite.\n",
    "\n",
    "Le coefficient directeur \"a\" de la droite est calculé à l'aide de la formule suivante :\n",
    "a = Σ(xi - x)(yi - y) / Σ(xi - x)^2\n",
    "\n",
    "La constante \"b\" (ordonnée à l'origine) est calculée à l'aide de l'équation : y = ax + b.\n"
   ]
  },
  {
   "cell_type": "code",
   "execution_count": 3,
   "metadata": {},
   "outputs": [
    {
     "name": "stdout",
     "output_type": "stream",
     "text": [
      "La covariance entre x et y est : 23538.714285714283\n",
      "La variance entre x 26951.5\n"
     ]
    },
    {
     "data": {
      "text/plain": [
       "<matplotlib.legend.Legend at 0x14cbebfdf50>"
      ]
     },
     "execution_count": 3,
     "metadata": {},
     "output_type": "execute_result"
    },
    {
     "data": {
      "image/png": "[encoded data removed]",
      "text/plain": [
       "<Figure size 640x480 with 1 Axes>"
      ]
     },
     "metadata": {},
     "output_type": "display_data"
    }
   ],
   "source": [
    "x = np.array([100,102,201,225,320,390,450,600])\n",
    "y = np.array([200,259,310,380,420,480,500,613])\n",
    "data = np.array([x, y])\n",
    "cov_matrix = np.cov(data)\n",
    "cov_xy = cov_matrix[0, 1]\n",
    "var_x = x.var()\n",
    "print(\"La covariance entre x et y est :\", cov_xy)\n",
    "print(\"La variance entre x\", var_x)\n",
    "a = cov_xy / var_x\n",
    "x_bar = x.mean()\n",
    "y_bar = y.mean()\n",
    "G_point = [x_bar,y_bar]\n",
    "b = y_bar - a*x_bar\n",
    "plt.xlabel(\"x\")\n",
    "plt.ylabel(\"y\")\n",
    "plt.title(\"scatter plot\")\n",
    "plt.scatter(x,y,color='blue',marker='.',label=\"Donnes\")\n",
    "plt.scatter(G_point[0],G_point[1],color='red',marker='.',label=\"le point G\")\n",
    "plt.plot(x, a * x + b, color='red', label='Droite de régression')\n",
    "plt.legend()\n"
   ]
  },
  {
   "cell_type": "markdown",
   "metadata": {},
   "source": [
    "## **Méthode de Mayer**\n",
    "\n",
    "La méthode de Mayer est une technique d'ajustement linéaire qui consiste à découper la série de données en deux sous-séries. Cette approche permet de prendre en compte tous les points de la série lors de l'ajustement de la droite de régression.\n",
    "\n",
    "1. **Découpage de la série de données** :\n",
    "   - La série de données est divisée en deux sous-séries, généralement de manière égale. Cela garantit que tous les points de la série sont pris en compte dans l'ajustement.\n",
    "\n",
    "2. **Calcul des points moyens** :\n",
    "   - Le point moyen est calculé pour chaque sous-série. C'est la moyenne des valeurs de la sous-série.\n",
    "\n",
    "3. **Détermination de l'équation de la droite d'ajustement** :\n",
    "   - L'équation de la droite d'ajustement est trouvée en passant par les deux points moyens des sous-séries. Cela permet d'obtenir une droite qui représente au mieux la tendance générale des données.\n",
    "\n",
    "4. **Traitement des séries impaires** :\n",
    "   - Si la série de données comporte un nombre impair de points, il est recommandé de prendre un point supplémentaire dans la deuxième sous-série. Cela permet d'augmenter son poids relatif, car elle est plus récente et donc plus représentative.\n",
    "\n",
    "Cette méthode offre une approche intéressante pour ajuster une droite de régression tout en prenant en compte l'ensemble des données disponibles.\n"
   ]
  },
  {
   "cell_type": "code",
   "execution_count": 4,
   "metadata": {},
   "outputs": [
    {
     "data": {
      "text/plain": [
       "<matplotlib.legend.Legend at 0x14cc2d70190>"
      ]
     },
     "execution_count": 4,
     "metadata": {},
     "output_type": "execute_result"
    },
    {
     "data": {
      "image/png": "[encoded data removed]",
      "text/plain": [
       "<Figure size 640x480 with 1 Axes>"
      ]
     },
     "metadata": {},
     "output_type": "display_data"
    }
   ],
   "source": [
    "x = np.array([100,102,201,225,320,390,450,600])\n",
    "y = np.array([200,259,310,380,420,480,500,613])\n",
    "\n",
    "x1,x2 = x[:4],x[4:]\n",
    "y1,y2 = y[:4],y[4:]\n",
    "\n",
    "x1_bar = x1.mean()\n",
    "y1_bar = y1.mean()\n",
    "PG1 = [x1_bar,y1_bar]\n",
    "x2_bar = x2.mean()\n",
    "y2_bar = y2.mean()\n",
    "PG2 = [x2_bar,y2_bar]\n",
    "\n",
    "plt.title(\"scatter plot\")\n",
    "plt.xlabel(\"x\")\n",
    "plt.ylabel(\"y\")\n",
    "plt.scatter(x,y,c='b',marker='.',label=\"Donnes\")\n",
    "plt.scatter(PG1[0],PG1[1],c='black',marker='.',label=\"Le point G1\")\n",
    "plt.scatter(PG2[0],PG2[1],c='black',marker='.',label=\"Le point G2\")\n",
    "plt.scatter(G_point[0],G_point[1],c='red',marker='.',label=\"Le point G\",s=100)\n",
    "\n",
    "a = (y2_bar - y1_bar) / (x2_bar-x1_bar)\n",
    "b = y_bar - a*x_bar\n",
    "plt.plot(x, a * x + b, color='red', label='Droite de régression')\n",
    "plt.legend()"
   ]
  },
  {
   "cell_type": "markdown",
   "metadata": {},
   "source": [
    "# **Méthode des points extrêmes**\n",
    "\n",
    "La méthode des points extrêmes est une technique d'ajustement linéaire qui consiste à calculer l'équation de la droite d'ajustement qui passe par le premier point et le dernier point d'une série de coordonnées (x, y). Cette méthode est souvent utilisée lorsque l'on constate que la variable, par exemple le nombre de commandes, augmente ou diminue de façon très régulière en fonction de l'autre variable, par exemple, le temps.\n",
    "\n",
    "### Utilisation préférentielle\n",
    "Cette méthode est préférée dans les cas où les données semblent suivre une tendance linéaire constante sur toute la plage de valeurs. Elle est particulièrement adaptée lorsque la relation entre les variables est linéaire et que les points de données sont répartis de manière homogène le long de la droite de régression.\n",
    "\n",
    "### Avantages\n",
    "- Simple à utiliser : La méthode des points extrêmes est la méthode la plus simple pour ajuster une droite de régression.\n",
    "- Appropriée pour les tendances linéaires : Elle est bien adaptée lorsque la relation entre les variables est linéaire et que les points de données suivent une tendance constante.\n",
    "\n",
    "### Inconvénients\n",
    "- Sensibilité aux points extrêmes : Comme elle ne prend en compte que deux points, cette méthode peut être sensible aux valeurs extrêmes ou aux erreurs de mesure dans les données.\n",
    "\n",
    "Cette méthode offre une approche simple et rapide pour ajuster une droite de régression lorsque les données semblent suivre une tendance linéaire constante sur toute la plage de valeurs.\n"
   ]
  },
  {
   "cell_type": "code",
   "execution_count": 5,
   "metadata": {},
   "outputs": [
    {
     "data": {
      "text/plain": [
       "<matplotlib.legend.Legend at 0x14cc2e7ffd0>"
      ]
     },
     "execution_count": 5,
     "metadata": {},
     "output_type": "execute_result"
    },
    {
     "data": {
      "image/png": "[encoded data removed]",
      "text/plain": [
       "<Figure size 640x480 with 1 Axes>"
      ]
     },
     "metadata": {},
     "output_type": "display_data"
    }
   ],
   "source": [
    "x = np.array([100, 102, 201, 225, 320, 390, 450, 600])\n",
    "y = np.array([200, 259, 310, 380, 420, 480, 500, 613])\n",
    "\n",
    "x_min, y_min = x[0], y[0]\n",
    "x_max, y_max = x[-1], y[-1]\n",
    "m = (y_max - y_min) / (x_max - x_min)\n",
    "b = y_min - m * x_min\n",
    "plt.scatter(x, y, c='b', marker='.', label=\"Données\")\n",
    "plt.scatter(x_min, y_min, c='r', marker='o', label=\"Point extrême minimum\")\n",
    "plt.scatter(x_max, y_max, c='r', marker='o', label=\"Point extrême maximum\")\n",
    "plt.plot(x, m * x + b, color='red', label='Droite de régression')\n",
    "plt.scatter(G_point[0], G_point[1], c='black', marker='o', label=\"Le point G\", s=100)\n",
    "plt.title(\"Scatter plot avec la droite de régression\")\n",
    "plt.xlabel(\"x\")\n",
    "plt.ylabel(\"y\")\n",
    "plt.legend()\n"
   ]
  },
  {
   "cell_type": "code",
   "execution_count": 6,
   "metadata": {},
   "outputs": [
    {
     "data": {
      "text/plain": [
       "<matplotlib.legend.Legend at 0x14cc2eba510>"
      ]
     },
     "execution_count": 6,
     "metadata": {},
     "output_type": "execute_result"
    },
    {
     "data": {
      "image/png": "[encoded data removed]",
      "text/plain": [
       "<Figure size 640x480 with 1 Axes>"
      ]
     },
     "metadata": {},
     "output_type": "display_data"
    }
   ],
   "source": [
    "x = np.array([100, 102, 201, 225, 320, 390, 450, 600])\n",
    "y = np.array([200, 259, 310, 380, 420, 480, 500, 613])\n",
    "\n",
    "xmin , ymin = x[0],y[0]\n",
    "xmax , ymax = x[-1],y[-1]\n",
    "\n",
    "a = (ymax - ymin) / (xmax - xmin)\n",
    "\n",
    "b = ymin - a*xmin\n",
    "\n",
    "plt.scatter(x,y,c=\"blue\",marker='.',label=\"donnes\")\n",
    "plt.plot(x,a*x+b,c='red')\n",
    "plt.scatter(xmax,ymax,c='black',marker='.',s=100)\n",
    "plt.scatter(xmin,ymin,c='black',marker='.',s=100)\n",
    "plt.legend()"
   ]
  },
  {
   "cell_type": "markdown",
   "metadata": {},
   "source": [
    "## Travail affaire\n",
    "\n",
    "Nous avons un fichier csv **\"STATISTIQUES_EQUIPE_LIGUE1.csv\"** qui contient quelques chiffres sur les clubs de la Ligue 1 2022-2023 (Le Championnat de France de football). Le fichier contient les colonnes suivantes :\n",
    "\n",
    "- **equipe** : le nom du club\n",
    "- **Victoire** : nombre de matchs gagnés\n",
    "- **Nuls** : nombre de matchs Nuls\n",
    "- **Defaites** : nombre de matchs défaites\n",
    "- **ButsPour** : nombre de buts marqués\n",
    "- **ButsContre** : nombre de buts encaissés\n",
    "- **FautesCommises** : nombre de fautes commises\n",
    "- **PassesReussies** : nombre de passes réussies\n",
    "- **ButstTete** : nombre de buts marqués de la tête\n",
    "- **HorsJeux** : nombre de hors-jeux3/3\n",
    "- **0-15**, **16-30**, **31-45**, **46-60**, **61-75**, **76-90** : représentent respectivement le nombre de buts marqués par créneaux horaires.\n",
    "\n",
    "1. Créer un ndarray à partir du fichier STATISTIQUES_EQUIPE_LIGUE1.csv et vérifier le nombre de lignes et de colonnes.\n",
    "2. Calculer le nombre moyen de buts par match.\n",
    "3. Calculer la valeur moyenne du nombre de points (3 points pour une victoire, 1 point pour un nul et 0 points pour une défaite).\n",
    "4. Quelle équipe a le plus grand nombre de victoires ?\n",
    "5. Quel est le club ayant inscrit le plus grand nombre de buts ?\n",
    "6. Quelle équipe a le plus grand nombre de hors-jeux ?\n",
    "7. Quelle équipe possède la meilleure attaque et celle qui possède la meilleure défense ?\n",
    "8. Trouver le nombre des équipes dont le nombre de buts marqués est inférieur à celui encaissé, puis afficher le nom de ces équipes.\n",
    "9. Calculer ensuite la différence de buts (buts pour - buts contre).\n",
    "10. Calculer pour chaque créneau horaire le pourcentage de buts marqués pour chaque club.\n",
    "11. Joindre les tableaux nécessaires dans un seul ndarray (20, 17) avec les colonnes suivantes : club, points, Victoire, Nuls, Defaite, ButsPour, Butscontre, Différence, HorsJeux, ButsParMatch, ButsEncaissésParMatch, pourcentageButsMarques_creneau.\n",
    "12. Trier le tableau obtenu dans la question 11 selon le nombre des points.\n",
    "13. En utilisant la méthode corrcoef(), afficher la matrice de corrélation. Interpréter le résultat obtenu.\n",
    "14. Sauvegarder le tableau trié dans un fichier csv avec l’entête correspondant.\n"
   ]
  },
  {
   "cell_type": "code",
   "execution_count": 7,
   "metadata": {},
   "outputs": [
    {
     "name": "stdout",
     "output_type": "stream",
     "text": [
      "le nombre de ligne :  20\n",
      "le nombre de colonnes 16\n"
     ]
    }
   ],
   "source": [
    "import numpy as np\n",
    "import pandas as pd\n",
    "\n",
    "df = pd.read_csv('STATISTIQUES_EQUIPE_LIGUE1.csv',delimiter=';')\n",
    "row , col = df.shape\n",
    "print(\"le nombre de ligne : \",row)\n",
    "print(\"le nombre de colonnes\",col)"
   ]
  },
  {
   "cell_type": "code",
   "execution_count": 8,
   "metadata": {},
   "outputs": [
    {
     "data": {
      "text/html": [
       "<div>\n",
       "<style scoped>\n",
       "    .dataframe tbody tr th:only-of-type {\n",
       "        vertical-align: middle;\n",
       "    }\n",
       "\n",
       "    .dataframe tbody tr th {\n",
       "        vertical-align: top;\n",
       "    }\n",
       "\n",
       "    .dataframe thead th {\n",
       "        text-align: right;\n",
       "    }\n",
       "</style>\n",
       "<table border=\"1\" class=\"dataframe\">\n",
       "  <thead>\n",
       "    <tr style=\"text-align: right;\">\n",
       "      <th></th>\n",
       "      <th>equipe</th>\n",
       "      <th>Victoire</th>\n",
       "      <th>Nuls</th>\n",
       "      <th>Defaites</th>\n",
       "      <th>ButsPour</th>\n",
       "      <th>ButsContre</th>\n",
       "      <th>Fautescommises</th>\n",
       "      <th>PassesReussies</th>\n",
       "      <th>ButsTetes</th>\n",
       "      <th>HorsJeux</th>\n",
       "      <th>0-15</th>\n",
       "      <th>16-30</th>\n",
       "      <th>31-45</th>\n",
       "      <th>46-60</th>\n",
       "      <th>61-75</th>\n",
       "      <th>76-90</th>\n",
       "    </tr>\n",
       "  </thead>\n",
       "  <tbody>\n",
       "    <tr>\n",
       "      <th>0</th>\n",
       "      <td>Ajaccio</td>\n",
       "      <td>3</td>\n",
       "      <td>3</td>\n",
       "      <td>9</td>\n",
       "      <td>14</td>\n",
       "      <td>24</td>\n",
       "      <td>214</td>\n",
       "      <td>4307</td>\n",
       "      <td>3</td>\n",
       "      <td>23</td>\n",
       "      <td>0</td>\n",
       "      <td>1</td>\n",
       "      <td>5</td>\n",
       "      <td>3</td>\n",
       "      <td>3</td>\n",
       "      <td>2</td>\n",
       "    </tr>\n",
       "    <tr>\n",
       "      <th>1</th>\n",
       "      <td>Angers</td>\n",
       "      <td>2</td>\n",
       "      <td>2</td>\n",
       "      <td>11</td>\n",
       "      <td>15</td>\n",
       "      <td>34</td>\n",
       "      <td>188</td>\n",
       "      <td>5159</td>\n",
       "      <td>3</td>\n",
       "      <td>17</td>\n",
       "      <td>2</td>\n",
       "      <td>1</td>\n",
       "      <td>2</td>\n",
       "      <td>2</td>\n",
       "      <td>4</td>\n",
       "      <td>4</td>\n",
       "    </tr>\n",
       "    <tr>\n",
       "      <th>2</th>\n",
       "      <td>Auxerre</td>\n",
       "      <td>3</td>\n",
       "      <td>4</td>\n",
       "      <td>8</td>\n",
       "      <td>14</td>\n",
       "      <td>31</td>\n",
       "      <td>164</td>\n",
       "      <td>5134</td>\n",
       "      <td>2</td>\n",
       "      <td>23</td>\n",
       "      <td>3</td>\n",
       "      <td>1</td>\n",
       "      <td>2</td>\n",
       "      <td>1</td>\n",
       "      <td>3</td>\n",
       "      <td>4</td>\n",
       "    </tr>\n",
       "    <tr>\n",
       "      <th>3</th>\n",
       "      <td>Brest</td>\n",
       "      <td>3</td>\n",
       "      <td>4</td>\n",
       "      <td>8</td>\n",
       "      <td>16</td>\n",
       "      <td>28</td>\n",
       "      <td>197</td>\n",
       "      <td>4912</td>\n",
       "      <td>4</td>\n",
       "      <td>26</td>\n",
       "      <td>3</td>\n",
       "      <td>2</td>\n",
       "      <td>1</td>\n",
       "      <td>3</td>\n",
       "      <td>5</td>\n",
       "      <td>2</td>\n",
       "    </tr>\n",
       "    <tr>\n",
       "      <th>4</th>\n",
       "      <td>Clermont</td>\n",
       "      <td>5</td>\n",
       "      <td>4</td>\n",
       "      <td>6</td>\n",
       "      <td>19</td>\n",
       "      <td>23</td>\n",
       "      <td>158</td>\n",
       "      <td>5514</td>\n",
       "      <td>2</td>\n",
       "      <td>25</td>\n",
       "      <td>3</td>\n",
       "      <td>0</td>\n",
       "      <td>1</td>\n",
       "      <td>6</td>\n",
       "      <td>4</td>\n",
       "      <td>5</td>\n",
       "    </tr>\n",
       "    <tr>\n",
       "      <th>5</th>\n",
       "      <td>Lens</td>\n",
       "      <td>11</td>\n",
       "      <td>3</td>\n",
       "      <td>1</td>\n",
       "      <td>26</td>\n",
       "      <td>10</td>\n",
       "      <td>216</td>\n",
       "      <td>6766</td>\n",
       "      <td>4</td>\n",
       "      <td>19</td>\n",
       "      <td>1</td>\n",
       "      <td>4</td>\n",
       "      <td>2</td>\n",
       "      <td>5</td>\n",
       "      <td>6</td>\n",
       "      <td>8</td>\n",
       "    </tr>\n",
       "    <tr>\n",
       "      <th>6</th>\n",
       "      <td>Lille</td>\n",
       "      <td>8</td>\n",
       "      <td>2</td>\n",
       "      <td>5</td>\n",
       "      <td>27</td>\n",
       "      <td>23</td>\n",
       "      <td>209</td>\n",
       "      <td>6751</td>\n",
       "      <td>2</td>\n",
       "      <td>24</td>\n",
       "      <td>4</td>\n",
       "      <td>4</td>\n",
       "      <td>7</td>\n",
       "      <td>3</td>\n",
       "      <td>4</td>\n",
       "      <td>5</td>\n",
       "    </tr>\n",
       "    <tr>\n",
       "      <th>7</th>\n",
       "      <td>Lorient</td>\n",
       "      <td>8</td>\n",
       "      <td>4</td>\n",
       "      <td>3</td>\n",
       "      <td>26</td>\n",
       "      <td>21</td>\n",
       "      <td>144</td>\n",
       "      <td>4939</td>\n",
       "      <td>2</td>\n",
       "      <td>19</td>\n",
       "      <td>5</td>\n",
       "      <td>4</td>\n",
       "      <td>5</td>\n",
       "      <td>7</td>\n",
       "      <td>2</td>\n",
       "      <td>3</td>\n",
       "    </tr>\n",
       "    <tr>\n",
       "      <th>8</th>\n",
       "      <td>Lyon</td>\n",
       "      <td>6</td>\n",
       "      <td>3</td>\n",
       "      <td>6</td>\n",
       "      <td>23</td>\n",
       "      <td>18</td>\n",
       "      <td>182</td>\n",
       "      <td>7240</td>\n",
       "      <td>5</td>\n",
       "      <td>23</td>\n",
       "      <td>3</td>\n",
       "      <td>4</td>\n",
       "      <td>3</td>\n",
       "      <td>3</td>\n",
       "      <td>5</td>\n",
       "      <td>5</td>\n",
       "    </tr>\n",
       "    <tr>\n",
       "      <th>9</th>\n",
       "      <td>Marseille</td>\n",
       "      <td>9</td>\n",
       "      <td>3</td>\n",
       "      <td>3</td>\n",
       "      <td>26</td>\n",
       "      <td>13</td>\n",
       "      <td>219</td>\n",
       "      <td>6146</td>\n",
       "      <td>4</td>\n",
       "      <td>20</td>\n",
       "      <td>5</td>\n",
       "      <td>1</td>\n",
       "      <td>8</td>\n",
       "      <td>4</td>\n",
       "      <td>3</td>\n",
       "      <td>5</td>\n",
       "    </tr>\n",
       "    <tr>\n",
       "      <th>10</th>\n",
       "      <td>Monaco</td>\n",
       "      <td>8</td>\n",
       "      <td>3</td>\n",
       "      <td>4</td>\n",
       "      <td>29</td>\n",
       "      <td>21</td>\n",
       "      <td>195</td>\n",
       "      <td>4987</td>\n",
       "      <td>8</td>\n",
       "      <td>26</td>\n",
       "      <td>3</td>\n",
       "      <td>2</td>\n",
       "      <td>7</td>\n",
       "      <td>7</td>\n",
       "      <td>7</td>\n",
       "      <td>3</td>\n",
       "    </tr>\n",
       "    <tr>\n",
       "      <th>11</th>\n",
       "      <td>Montpellier</td>\n",
       "      <td>4</td>\n",
       "      <td>2</td>\n",
       "      <td>9</td>\n",
       "      <td>24</td>\n",
       "      <td>29</td>\n",
       "      <td>180</td>\n",
       "      <td>4437</td>\n",
       "      <td>2</td>\n",
       "      <td>31</td>\n",
       "      <td>8</td>\n",
       "      <td>4</td>\n",
       "      <td>2</td>\n",
       "      <td>1</td>\n",
       "      <td>3</td>\n",
       "      <td>6</td>\n",
       "    </tr>\n",
       "    <tr>\n",
       "      <th>12</th>\n",
       "      <td>Nantes</td>\n",
       "      <td>2</td>\n",
       "      <td>7</td>\n",
       "      <td>6</td>\n",
       "      <td>17</td>\n",
       "      <td>24</td>\n",
       "      <td>190</td>\n",
       "      <td>4908</td>\n",
       "      <td>3</td>\n",
       "      <td>19</td>\n",
       "      <td>1</td>\n",
       "      <td>1</td>\n",
       "      <td>2</td>\n",
       "      <td>3</td>\n",
       "      <td>4</td>\n",
       "      <td>6</td>\n",
       "    </tr>\n",
       "    <tr>\n",
       "      <th>13</th>\n",
       "      <td>Nice</td>\n",
       "      <td>5</td>\n",
       "      <td>5</td>\n",
       "      <td>5</td>\n",
       "      <td>15</td>\n",
       "      <td>17</td>\n",
       "      <td>143</td>\n",
       "      <td>6531</td>\n",
       "      <td>1</td>\n",
       "      <td>27</td>\n",
       "      <td>1</td>\n",
       "      <td>3</td>\n",
       "      <td>3</td>\n",
       "      <td>3</td>\n",
       "      <td>3</td>\n",
       "      <td>2</td>\n",
       "    </tr>\n",
       "    <tr>\n",
       "      <th>14</th>\n",
       "      <td>PSG</td>\n",
       "      <td>13</td>\n",
       "      <td>2</td>\n",
       "      <td>0</td>\n",
       "      <td>43</td>\n",
       "      <td>9</td>\n",
       "      <td>157</td>\n",
       "      <td>8797</td>\n",
       "      <td>4</td>\n",
       "      <td>36</td>\n",
       "      <td>5</td>\n",
       "      <td>7</td>\n",
       "      <td>7</td>\n",
       "      <td>7</td>\n",
       "      <td>5</td>\n",
       "      <td>12</td>\n",
       "    </tr>\n",
       "    <tr>\n",
       "      <th>15</th>\n",
       "      <td>Reims</td>\n",
       "      <td>3</td>\n",
       "      <td>8</td>\n",
       "      <td>4</td>\n",
       "      <td>16</td>\n",
       "      <td>21</td>\n",
       "      <td>203</td>\n",
       "      <td>4052</td>\n",
       "      <td>2</td>\n",
       "      <td>28</td>\n",
       "      <td>1</td>\n",
       "      <td>5</td>\n",
       "      <td>1</td>\n",
       "      <td>1</td>\n",
       "      <td>2</td>\n",
       "      <td>6</td>\n",
       "    </tr>\n",
       "    <tr>\n",
       "      <th>16</th>\n",
       "      <td>Rennes</td>\n",
       "      <td>9</td>\n",
       "      <td>4</td>\n",
       "      <td>2</td>\n",
       "      <td>31</td>\n",
       "      <td>14</td>\n",
       "      <td>193</td>\n",
       "      <td>6550</td>\n",
       "      <td>7</td>\n",
       "      <td>24</td>\n",
       "      <td>2</td>\n",
       "      <td>5</td>\n",
       "      <td>3</td>\n",
       "      <td>8</td>\n",
       "      <td>3</td>\n",
       "      <td>10</td>\n",
       "    </tr>\n",
       "    <tr>\n",
       "      <th>17</th>\n",
       "      <td>Strasbourg</td>\n",
       "      <td>1</td>\n",
       "      <td>8</td>\n",
       "      <td>6</td>\n",
       "      <td>17</td>\n",
       "      <td>26</td>\n",
       "      <td>196</td>\n",
       "      <td>5320</td>\n",
       "      <td>3</td>\n",
       "      <td>19</td>\n",
       "      <td>2</td>\n",
       "      <td>3</td>\n",
       "      <td>2</td>\n",
       "      <td>2</td>\n",
       "      <td>4</td>\n",
       "      <td>4</td>\n",
       "    </tr>\n",
       "    <tr>\n",
       "      <th>18</th>\n",
       "      <td>Toulouse</td>\n",
       "      <td>4</td>\n",
       "      <td>4</td>\n",
       "      <td>7</td>\n",
       "      <td>20</td>\n",
       "      <td>27</td>\n",
       "      <td>187</td>\n",
       "      <td>5248</td>\n",
       "      <td>0</td>\n",
       "      <td>31</td>\n",
       "      <td>2</td>\n",
       "      <td>3</td>\n",
       "      <td>6</td>\n",
       "      <td>5</td>\n",
       "      <td>3</td>\n",
       "      <td>1</td>\n",
       "    </tr>\n",
       "    <tr>\n",
       "      <th>19</th>\n",
       "      <td>Troyes</td>\n",
       "      <td>3</td>\n",
       "      <td>5</td>\n",
       "      <td>7</td>\n",
       "      <td>26</td>\n",
       "      <td>31</td>\n",
       "      <td>159</td>\n",
       "      <td>4818</td>\n",
       "      <td>2</td>\n",
       "      <td>23</td>\n",
       "      <td>4</td>\n",
       "      <td>4</td>\n",
       "      <td>3</td>\n",
       "      <td>5</td>\n",
       "      <td>2</td>\n",
       "      <td>8</td>\n",
       "    </tr>\n",
       "  </tbody>\n",
       "</table>\n",
       "</div>"
      ],
      "text/plain": [
       "         equipe  Victoire  Nuls  Defaites  ButsPour  ButsContre   \n",
       "0       Ajaccio         3     3         9        14          24  \\\n",
       "1        Angers         2     2        11        15          34   \n",
       "2       Auxerre         3     4         8        14          31   \n",
       "3         Brest         3     4         8        16          28   \n",
       "4      Clermont         5     4         6        19          23   \n",
       "5          Lens        11     3         1        26          10   \n",
       "6         Lille         8     2         5        27          23   \n",
       "7       Lorient         8     4         3        26          21   \n",
       "8          Lyon         6     3         6        23          18   \n",
       "9     Marseille         9     3         3        26          13   \n",
       "10       Monaco         8     3         4        29          21   \n",
       "11  Montpellier         4     2         9        24          29   \n",
       "12       Nantes         2     7         6        17          24   \n",
       "13         Nice         5     5         5        15          17   \n",
       "14          PSG        13     2         0        43           9   \n",
       "15        Reims         3     8         4        16          21   \n",
       "16       Rennes         9     4         2        31          14   \n",
       "17   Strasbourg         1     8         6        17          26   \n",
       "18     Toulouse         4     4         7        20          27   \n",
       "19       Troyes         3     5         7        26          31   \n",
       "\n",
       "    Fautescommises  PassesReussies  ButsTetes  HorsJeux  0-15  16-30  31-45   \n",
       "0              214            4307          3        23     0      1      5  \\\n",
       "1              188            5159          3        17     2      1      2   \n",
       "2              164            5134          2        23     3      1      2   \n",
       "3              197            4912          4        26     3      2      1   \n",
       "4              158            5514          2        25     3      0      1   \n",
       "5              216            6766          4        19     1      4      2   \n",
       "6              209            6751          2        24     4      4      7   \n",
       "7              144            4939          2        19     5      4      5   \n",
       "8              182            7240          5        23     3      4      3   \n",
       "9              219            6146          4        20     5      1      8   \n",
       "10             195            4987          8        26     3      2      7   \n",
       "11             180            4437          2        31     8      4      2   \n",
       "12             190            4908          3        19     1      1      2   \n",
       "13             143            6531          1        27     1      3      3   \n",
       "14             157            8797          4        36     5      7      7   \n",
       "15             203            4052          2        28     1      5      1   \n",
       "16             193            6550          7        24     2      5      3   \n",
       "17             196            5320          3        19     2      3      2   \n",
       "18             187            5248          0        31     2      3      6   \n",
       "19             159            4818          2        23     4      4      3   \n",
       "\n",
       "    46-60  61-75  76-90  \n",
       "0       3      3      2  \n",
       "1       2      4      4  \n",
       "2       1      3      4  \n",
       "3       3      5      2  \n",
       "4       6      4      5  \n",
       "5       5      6      8  \n",
       "6       3      4      5  \n",
       "7       7      2      3  \n",
       "8       3      5      5  \n",
       "9       4      3      5  \n",
       "10      7      7      3  \n",
       "11      1      3      6  \n",
       "12      3      4      6  \n",
       "13      3      3      2  \n",
       "14      7      5     12  \n",
       "15      1      2      6  \n",
       "16      8      3     10  \n",
       "17      2      4      4  \n",
       "18      5      3      1  \n",
       "19      5      2      8  "
      ]
     },
     "execution_count": 8,
     "metadata": {},
     "output_type": "execute_result"
    }
   ],
   "source": [
    "df"
   ]
  },
  {
   "cell_type": "markdown",
   "metadata": {},
   "source": [
    "**Calculer le nombre moyen de buts par match**"
   ]
  },
  {
   "cell_type": "code",
   "execution_count": 9,
   "metadata": {},
   "outputs": [
    {
     "data": {
      "text/plain": [
       "22.2"
      ]
     },
     "execution_count": 9,
     "metadata": {},
     "output_type": "execute_result"
    }
   ],
   "source": [
    "moyen_buts = np.mean(df['ButsPour'])\n",
    "moyen_buts"
   ]
  },
  {
   "cell_type": "markdown",
   "metadata": {},
   "source": [
    "**Calculer la valeur moyenne du nombre de points (3 points pour une victoire, 1 point pour un nul et 0 points pour une défaite)**"
   ]
  },
  {
   "cell_type": "code",
   "execution_count": 10,
   "metadata": {},
   "outputs": [
    {
     "data": {
      "text/plain": [
       "20.5"
      ]
     },
     "execution_count": 10,
     "metadata": {},
     "output_type": "execute_result"
    }
   ],
   "source": [
    "points = df['Victoire'] * 3 + df['Defaites'] * 0 + df['Nuls'] * 1 \n",
    "moyen_point = np.mean(points)\n",
    "moyen_point"
   ]
  },
  {
   "cell_type": "markdown",
   "metadata": {},
   "source": [
    "**4. Quelle équipe a le plus grand nombre de victoires ?**"
   ]
  },
  {
   "cell_type": "code",
   "execution_count": 11,
   "metadata": {},
   "outputs": [
    {
     "data": {
      "text/plain": [
       "'PSG'"
      ]
     },
     "execution_count": 11,
     "metadata": {},
     "output_type": "execute_result"
    }
   ],
   "source": [
    "max_vectoires = df.loc[(df['Victoire'].idxmax(),'equipe')]\n",
    "max_vectoires"
   ]
  },
  {
   "cell_type": "markdown",
   "metadata": {},
   "source": [
    "**5. Quel est le club ayant inscrit le plus grand nombre de buts ?**"
   ]
  },
  {
   "cell_type": "code",
   "execution_count": 12,
   "metadata": {},
   "outputs": [
    {
     "data": {
      "text/plain": [
       "'PSG'"
      ]
     },
     "execution_count": 12,
     "metadata": {},
     "output_type": "execute_result"
    }
   ],
   "source": [
    "max_buts = df.loc[(df['ButsPour'].idxmax(),'equipe')]\n",
    "max_buts"
   ]
  },
  {
   "cell_type": "markdown",
   "metadata": {},
   "source": [
    "**6. Quelle équipe a le plus grand nombre de hors-jeux ?**\n"
   ]
  },
  {
   "cell_type": "code",
   "execution_count": 13,
   "metadata": {},
   "outputs": [
    {
     "data": {
      "text/plain": [
       "'PSG'"
      ]
     },
     "execution_count": 13,
     "metadata": {},
     "output_type": "execute_result"
    }
   ],
   "source": [
    "max_hors_jeux = df.loc[(df['HorsJeux'].idxmax(),'equipe')]\n",
    "max_hors_jeux"
   ]
  },
  {
   "cell_type": "markdown",
   "metadata": {},
   "source": [
    "**7. Quelle équipe possède la meilleure attaque et celle qui possède la meilleure défense**"
   ]
  },
  {
   "cell_type": "code",
   "execution_count": 14,
   "metadata": {},
   "outputs": [
    {
     "name": "stdout",
     "output_type": "stream",
     "text": [
      "PSG\n",
      "Angers\n"
     ]
    }
   ],
   "source": [
    "meilleure_attaque = df.loc[(df['ButsPour'].idxmax(),'equipe')]\n",
    "meilleure_defense = df.loc[(df['ButsContre'].idxmax(),'equipe')]\n",
    "print(meilleure_attaque)\n",
    "print(meilleure_defense)"
   ]
  },
  {
   "cell_type": "markdown",
   "metadata": {},
   "source": [
    "**8 Trouver le nombre des équipes dont le nombre de buts marqués est inférieur à celui encaissés puis afficher le nom de ces équipes**"
   ]
  },
  {
   "cell_type": "code",
   "execution_count": 15,
   "metadata": {},
   "outputs": [
    {
     "name": "stdout",
     "output_type": "stream",
     "text": [
      "8\n"
     ]
    }
   ],
   "source": [
    "club_na = []\n",
    "for i in range(len(df)):\n",
    "    if(df['ButsPour'][i] > df['ButsContre'][i]):\n",
    "        club_na.append((df['equipe'][i]))\n",
    "print(len(club_na))"
   ]
  },
  {
   "cell_type": "code",
   "execution_count": 16,
   "metadata": {},
   "outputs": [
    {
     "data": {
      "text/plain": [
       "5          Lens\n",
       "6         Lille\n",
       "7       Lorient\n",
       "8          Lyon\n",
       "9     Marseille\n",
       "10       Monaco\n",
       "14          PSG\n",
       "16       Rennes\n",
       "Name: equipe, dtype: object"
      ]
     },
     "execution_count": 16,
     "metadata": {},
     "output_type": "execute_result"
    }
   ],
   "source": [
    "df.loc[(df['ButsPour'] > df['ButsContre'],'equipe')]"
   ]
  },
  {
   "cell_type": "code",
   "execution_count": 17,
   "metadata": {},
   "outputs": [
    {
     "data": {
      "text/plain": [
       "([0, 1, 2, 3, 4, 5, 6, 7, 8, 9, 10, 11, 12, 13, 14, 15, 16, 17, 18, 19],\n",
       " [Text(0, 0, 'Troyes'),\n",
       "  Text(1, 0, 'Toulouse'),\n",
       "  Text(2, 0, 'Strasbourg'),\n",
       "  Text(3, 0, 'Rennes'),\n",
       "  Text(4, 0, 'Reims'),\n",
       "  Text(5, 0, 'PSG'),\n",
       "  Text(6, 0, 'Nice'),\n",
       "  Text(7, 0, 'Nantes'),\n",
       "  Text(8, 0, 'Montpellier'),\n",
       "  Text(9, 0, 'Monaco'),\n",
       "  Text(10, 0, 'Marseille'),\n",
       "  Text(11, 0, 'Lyon'),\n",
       "  Text(12, 0, 'Lorient'),\n",
       "  Text(13, 0, 'Lille'),\n",
       "  Text(14, 0, 'Lens'),\n",
       "  Text(15, 0, 'Clermont'),\n",
       "  Text(16, 0, 'Brest'),\n",
       "  Text(17, 0, 'Auxerre'),\n",
       "  Text(18, 0, 'Angers'),\n",
       "  Text(19, 0, 'Ajaccio')])"
      ]
     },
     "execution_count": 17,
     "metadata": {},
     "output_type": "execute_result"
    },
    {
     "data": {
      "image/png": "[encoded data removed]",
      "text/plain": [
       "<Figure size 640x480 with 1 Axes>"
      ]
     },
     "metadata": {},
     "output_type": "display_data"
    }
   ],
   "source": [
    "import matplotlib.pyplot as plt \n",
    "x = df['equipe'][::-1]\n",
    "y = points\n",
    "plt.bar(x,y)\n",
    "plt.xticks(rotation=90)\n"
   ]
  },
  {
   "cell_type": "code",
   "execution_count": 18,
   "metadata": {},
   "outputs": [
    {
     "data": {
      "text/plain": [
       "<matplotlib.legend.Legend at 0x14cc2f385d0>"
      ]
     },
     "execution_count": 18,
     "metadata": {},
     "output_type": "execute_result"
    },
    {
     "data": {
      "image/png": "[encoded data removed]",
      "text/plain": [
       "<Figure size 640x480 with 1 Axes>"
      ]
     },
     "metadata": {},
     "output_type": "display_data"
    }
   ],
   "source": [
    "x = df['ButsContre']\n",
    "y = df['ButsPour']\n",
    "x = np.array(x)\n",
    "y = np.array(y)\n",
    "a = np.cov(x, y)[0, 1] / np.var(x)\n",
    "b = np.mean(y) - a * np.mean(x)\n",
    "modele_regression = a * x + b\n",
    "plt.scatter(x, y, color='blue', label='Données')\n",
    "plt.scatter(x.mean(),y.mean(),c=\"r\")\n",
    "plt.plot(x, modele_regression, color='red', label='Régression linéaire')\n",
    "plt.legend()\n"
   ]
  },
  {
   "cell_type": "code",
   "execution_count": 19,
   "metadata": {},
   "outputs": [
    {
     "name": "stdout",
     "output_type": "stream",
     "text": [
      "[[1.         0.83857704]\n",
      " [0.83857704 1.        ]]\n"
     ]
    },
    {
     "data": {
      "text/plain": [
       "<matplotlib.legend.Legend at 0x14cc31cec10>"
      ]
     },
     "execution_count": 19,
     "metadata": {},
     "output_type": "execute_result"
    },
    {
     "data": {
      "image/png": "[encoded data removed]",
      "text/plain": [
       "<Figure size 640x480 with 1 Axes>"
      ]
     },
     "metadata": {},
     "output_type": "display_data"
    }
   ],
   "source": [
    "x = df['ButsPour']\n",
    "y = points\n",
    "print(np.corrcoef(x,y))\n",
    "\n",
    "a = np.cov(x, y)[0, 1] / np.var(x)\n",
    "b = np.mean(y) - a * np.mean(x)\n",
    "modele_regression = a * x + b\n",
    "plt.scatter(x, y, color='blue', label='Données')\n",
    "plt.scatter(x.mean(),y.mean(),c=\"r\")\n",
    "plt.plot(x, modele_regression, color='red', label='Régression linéaire')\n",
    "plt.legend()"
   ]
  },
  {
   "cell_type": "code",
   "execution_count": 20,
   "metadata": {},
   "outputs": [
    {
     "name": "stdout",
     "output_type": "stream",
     "text": [
      "106\n"
     ]
    }
   ],
   "source": [
    "y = a * 100 + b \n",
    "print(int(y))"
   ]
  },
  {
   "cell_type": "code",
   "execution_count": 21,
   "metadata": {},
   "outputs": [
    {
     "data": {
      "text/plain": [
       "['Lens', 'Lille', 'Lorient', 'Lyon', 'Marseille', 'Monaco', 'PSG', 'Rennes']"
      ]
     },
     "execution_count": 21,
     "metadata": {},
     "output_type": "execute_result"
    }
   ],
   "source": [
    "club_na"
   ]
  },
  {
   "cell_type": "markdown",
   "metadata": {},
   "source": [
    "**9. Calculer ensuite la différence de buts (buts pour - buts contre)**"
   ]
  },
  {
   "cell_type": "code",
   "execution_count": 22,
   "metadata": {},
   "outputs": [
    {
     "data": {
      "text/plain": [
       "0    -10\n",
       "1    -19\n",
       "2    -17\n",
       "3    -12\n",
       "4     -4\n",
       "5     16\n",
       "6      4\n",
       "7      5\n",
       "8      5\n",
       "9     13\n",
       "10     8\n",
       "11    -5\n",
       "12    -7\n",
       "13    -2\n",
       "14    34\n",
       "15    -5\n",
       "16    17\n",
       "17    -9\n",
       "18    -7\n",
       "19    -5\n",
       "dtype: int64"
      ]
     },
     "execution_count": 22,
     "metadata": {},
     "output_type": "execute_result"
    }
   ],
   "source": [
    "difference_buts = df['ButsPour']-df['ButsContre']\n",
    "difference_buts"
   ]
  },
  {
   "cell_type": "markdown",
   "metadata": {},
   "source": [
    "**10. Calculer pour chaque créneau horaire le pourcentage de buts marqués pour chaque club.**\n"
   ]
  },
  {
   "cell_type": "code",
   "execution_count": 23,
   "metadata": {},
   "outputs": [
    {
     "name": "stdout",
     "output_type": "stream",
     "text": [
      "Pourcentage de buts marqués dans l'intervalle 0-15 : [0.0, 3.4482758620689653, 5.172413793103448, 5.172413793103448, 5.172413793103448, 1.7241379310344827, 6.896551724137931, 8.620689655172415, 5.172413793103448, 8.620689655172415, 5.172413793103448, 13.793103448275861, 1.7241379310344827, 1.7241379310344827, 8.620689655172415, 1.7241379310344827, 3.4482758620689653, 3.4482758620689653, 3.4482758620689653, 6.896551724137931]\n",
      "Pourcentage de buts marqués dans l'intervalle 16-30 : [1.694915254237288, 1.694915254237288, 1.694915254237288, 3.389830508474576, 0.0, 6.779661016949152, 6.779661016949152, 6.779661016949152, 6.779661016949152, 1.694915254237288, 3.389830508474576, 6.779661016949152, 1.694915254237288, 5.084745762711865, 11.864406779661017, 8.47457627118644, 8.47457627118644, 5.084745762711865, 5.084745762711865, 6.779661016949152]\n",
      "Pourcentage de buts marqués dans l'intervalle 31-45 : [6.944444444444445, 2.7777777777777777, 2.7777777777777777, 1.3888888888888888, 1.3888888888888888, 2.7777777777777777, 9.722222222222223, 6.944444444444445, 4.166666666666666, 11.11111111111111, 9.722222222222223, 2.7777777777777777, 2.7777777777777777, 4.166666666666666, 9.722222222222223, 1.3888888888888888, 4.166666666666666, 2.7777777777777777, 8.333333333333332, 4.166666666666666]\n",
      "Pourcentage de buts marqués dans l'intervalle 46-60 : [3.79746835443038, 2.5316455696202533, 1.2658227848101267, 3.79746835443038, 7.59493670886076, 6.329113924050633, 3.79746835443038, 8.860759493670885, 3.79746835443038, 5.063291139240507, 8.860759493670885, 1.2658227848101267, 3.79746835443038, 3.79746835443038, 8.860759493670885, 1.2658227848101267, 10.126582278481013, 2.5316455696202533, 6.329113924050633, 6.329113924050633]\n",
      "Pourcentage de buts marqués dans l'intervalle 61-75 : [4.0, 5.333333333333334, 4.0, 6.666666666666667, 5.333333333333334, 8.0, 5.333333333333334, 2.666666666666667, 6.666666666666667, 4.0, 9.333333333333334, 4.0, 5.333333333333334, 4.0, 6.666666666666667, 2.666666666666667, 4.0, 5.333333333333334, 4.0, 2.666666666666667]\n",
      "Pourcentage de buts marqués dans l'intervalle 76-90 : [1.9801980198019802, 3.9603960396039604, 3.9603960396039604, 1.9801980198019802, 4.9504950495049505, 7.920792079207921, 4.9504950495049505, 2.9702970297029703, 4.9504950495049505, 4.9504950495049505, 2.9702970297029703, 5.9405940594059405, 5.9405940594059405, 1.9801980198019802, 11.881188118811881, 5.9405940594059405, 9.900990099009901, 3.9603960396039604, 0.9900990099009901, 7.920792079207921]\n"
     ]
    }
   ],
   "source": [
    "time_intervals = ['0-15', '16-30', '31-45', '46-60', '61-75', '76-90']\n",
    "for interval in time_intervals:\n",
    "    buts_inteval = df[interval].sum()\n",
    "    pourcentage = (df[interval] / buts_inteval) * 100\n",
    "    print(\"Pourcentage de buts marqués dans l'intervalle\", interval, \":\", pourcentage.tolist())\n"
   ]
  },
  {
   "cell_type": "markdown",
   "metadata": {},
   "source": [
    "**Joindre les tableaux nécessaires dans un seul ndarray (20, 17) avec les colonnes suivantes :**\n",
    "**club, points, Victoire, Nuls, Defaite, ButsPour, Butscontre, Différence, HorsJeux,**\n",
    "**ButsParMatch, ButsEncaissésParMatch, pourcentageButsMarques_creneau**"
   ]
  },
  {
   "cell_type": "code",
   "execution_count": null,
   "metadata": {},
   "outputs": [],
   "source": []
  },
  {
   "cell_type": "code",
   "execution_count": null,
   "metadata": {},
   "outputs": [],
   "source": []
  },
  {
   "cell_type": "code",
   "execution_count": null,
   "metadata": {},
   "outputs": [],
   "source": []
  }
 ],
 "metadata": {
  "kernelspec": {
   "display_name": "Python 3",
   "language": "python",
   "name": "python3"
  },
  "language_info": {
   "codemirror_mode": {
    "name": "ipython",
    "version": 3
   },
   "file_extension": ".py",
   "mimetype": "text/x-python",
   "name": "python",
   "nbconvert_exporter": "python",
   "pygments_lexer": "ipython3",
   "version": "3.11.3"
  }
 },
 "nbformat": 4,
 "nbformat_minor": 2
}
